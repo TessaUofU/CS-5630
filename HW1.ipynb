{
 "cells": [
  {
   "cell_type": "markdown",
   "metadata": {
    "id": "MH6d4w6M9Ven"
   },
   "source": [
    "# Introduction to Data Science – Homework 1\n",
    "*COMP 5360 / MATH 4100, University of Utah, http://datasciencecourse.net/*\n",
    "\n",
    "Due: Friday, January 21, 11:59pm.\n",
    "\n",
    "This homework is designed to practice the skills we learned in up until Lecture 3: working with loops, conditions, functions, and the built-in Python data structures. Make sure to go through the lecture again in case you have any troubles.\n",
    "\n",
    "**Note: You are allowed to use built-in Python functions such as `len` and `range` etc. However, do not use functions that will solve the exercise entirely such as `reverse` to reverse a list or `sum` to sum a list.**\n",
    "\n",
    "**Note: You may not use higher-level library functions but should implement everything using functions, loops, and conditions.**"
   ]
  },
  {
   "cell_type": "markdown",
   "metadata": {
    "id": "Rl_mJZqA9Vep"
   },
   "source": [
    "## Your Data\n",
    "Fill out the following information: \n",
    "\n",
    "*First Name: Tessa*   \n",
    "*Last Name: Price*   \n",
    "*E-mail: tessa.price@utah.edu*   \n",
    "*UID: u0731478*  \n"
   ]
  },
  {
   "cell_type": "markdown",
   "metadata": {
    "id": "Ji-nFi-99Ver"
   },
   "source": [
    "## Problem 1: Largest Element\n",
    "\n",
    "Write a function that returns the largest element in a list. You can assume the list has at least one element."
   ]
  },
  {
   "cell_type": "code",
   "execution_count": 13,
   "metadata": {
    "id": "wr1jIaP59Ves"
   },
   "outputs": [],
   "source": [
    "#Creating new list for largest element result\n",
    "largest_element = []               \n",
    "\n",
    "def get_largest_element(L1):\n",
    "    #Sorting list from lowest to highest\n",
    "    L1.sort()\n",
    "    #Retieving largest element which should be the last element in the list, appending that element to new list\n",
    "    largest_element.append(L1[-1])\n",
    "    #Identifying largest element\n",
    "    return largest_element\n",
    "        "
   ]
  },
  {
   "cell_type": "code",
   "execution_count": 14,
   "metadata": {
    "id": "HVIPPmuP9Vet"
   },
   "outputs": [
    {
     "name": "stdout",
     "output_type": "stream",
     "text": [
      "[999]\n"
     ]
    }
   ],
   "source": [
    "print(get_largest_element([-13, -860, 25, -29, 17, 999, 69, 128, -12, 0, 18]))"
   ]
  },
  {
   "cell_type": "markdown",
   "metadata": {
    "id": "ohrWTVIt9Veu"
   },
   "source": [
    "## Problem 2: Reverse List\n",
    "\n",
    "Write a function `reverse` that takes a list as a parameter and reverses it.\n",
    "\n",
    "You need to implement two versions of the function: a version with element-wise processing, and another version using the list comprehension way."
   ]
  },
  {
   "cell_type": "code",
   "execution_count": 7,
   "metadata": {
    "id": "zr-oNO5H9Vev"
   },
   "outputs": [],
   "source": [
    "def reverse(L2):\n",
    "    list_reverse = []\n",
    "    #Iterating through elements in the full list\n",
    "    for e in range(len(L2)):\n",
    "        #'Popping' each element on the end of the list and appending it to new list I created\n",
    "        list_reverse.append(L2.pop(-1))\n",
    "    return list_reverse\n",
    "        \n",
    "\n",
    "def reverse_comprehension(L2):\n",
    "    #Comprehensive way of iterating and 'popping' each element in the list in reverse order,\n",
    "    #  appending to new list created by assigned variable\n",
    "    list_rcomp = [L2.pop(-1) for e in range(len(L2))]\n",
    "    return list_rcomp"
   ]
  },
  {
   "cell_type": "code",
   "execution_count": 12,
   "metadata": {
    "id": "2Bps9lz99Vev"
   },
   "outputs": [
    {
     "name": "stdout",
     "output_type": "stream",
     "text": [
      "[5, 6, 7, 8, 9, 10]\n",
      "['Scarlett', 'Chris', 'Bruce', 'Steve', 'Tony']\n",
      "['Steve', 'Tony', 7, 6, 5]\n"
     ]
    }
   ],
   "source": [
    "# call your function with a couple of different lists and print the results here\n",
    "print(reverse([10, 9, 8, 7, 6, 5]))\n",
    "print(reverse([\"Tony\", \"Steve\", \"Bruce\", \"Chris\", \"Scarlett\"]))\n",
    "print(reverse([5, 6, 7, \"Tony\", \"Steve\"]))"
   ]
  },
  {
   "cell_type": "code",
   "execution_count": 11,
   "metadata": {
    "id": "OYRLesZg9Vew"
   },
   "outputs": [
    {
     "name": "stdout",
     "output_type": "stream",
     "text": [
      "[5, 6, 7, 8, 9, 10]\n",
      "['Scarlett', 'Chris', 'Bruce', 'Steve', 'Tony']\n",
      "['Steve', 'Tony', 7, 6, 5]\n"
     ]
    }
   ],
   "source": [
    "print(reverse_comprehension([10, 9, 8, 7, 6, 5]))\n",
    "print(reverse_comprehension([\"Tony\", \"Steve\", \"Bruce\", \"Chris\", \"Scarlett\"]))\n",
    "print(reverse_comprehension([5, 6, 7, \"Tony\", \"Steve\"]))"
   ]
  },
  {
   "cell_type": "markdown",
   "metadata": {
    "id": "6Jcug3z09Vex"
   },
   "source": [
    "## Problem 3: Combining List\n",
    "\n",
    "Write a function that combines two lists by alternatingly taking elements, e.g. [a,b,c], [1,2,3] → [a,1,b,2,c,3].\n",
    "In case of two lists of different length, the result should be [a,b,c,d],[1,2]=>[a,1,b,2,c,d], i.e., the elements of the longer list are appended at the end."
   ]
  },
  {
   "cell_type": "code",
   "execution_count": 39,
   "metadata": {
    "id": "F5NHxrtB9Vey"
   },
   "outputs": [
    {
     "name": "stdout",
     "output_type": "stream",
     "text": [
      "['a', 1, 'b', 2, 'c', 3, 4, 5]\n"
     ]
    }
   ],
   "source": [
    "def combine_list(L3,l3):\n",
    "    comb_list = []\n",
    "    #Identifying length of lists and assigning a variable to work with\n",
    "    LST3 = len(L3)\n",
    "    lst3 = len(l3)\n",
    "    \n",
    "    #Iterating through the max range of both lengths of lists, \n",
    "    #  the function alternates between lists and appends the element to a new list\n",
    "    for e in range(max(LST3,lst3)):\n",
    "        if e < LST3:\n",
    "            comb_list.append(L3[e])\n",
    "        if e < lst3:\n",
    "            comb_list.append(l3[e])\n",
    "    return comb_list\n",
    "\n",
    "print(combine_list(['a','b','c'], [1,2,3,4,5]))"
   ]
  },
  {
   "cell_type": "code",
   "execution_count": 40,
   "metadata": {
    "id": "XTcxZt1S9Vey"
   },
   "outputs": [
    {
     "name": "stdout",
     "output_type": "stream",
     "text": [
      "[7, 'a', 8, 'A', 9, 'b', 10, 'B', 'c', 'C']\n",
      "\n",
      "[1, 'a', 2, 'b', 3, 'A', 4, 'B', 5, 6]\n"
     ]
    }
   ],
   "source": [
    "# call your function with a couple of different lists and print the results here\n",
    "print(combine_list([7,8,9,10], ['a', 'A', 'b', 'B', 'c', 'C']))\n",
    "print()\n",
    "print(combine_list([1,2,3,4,5,6], ['a', 'b', 'A', 'B']))"
   ]
  },
  {
   "cell_type": "markdown",
   "metadata": {
    "id": "yxKmpVQd9Vez"
   },
   "source": [
    "## Problem 4: Numbers to Digits\n",
    "\n",
    "Write a function `num_to_digits` that takes a number and returns a list of its digits. e.g. 789456 → [7, 8, 9, 4, 5, 6]\n",
    "\n",
    "You need to implement two versions of the function: a version with element-wise processing, and another version using the list comprehension way."
   ]
  },
  {
   "cell_type": "code",
   "execution_count": 8,
   "metadata": {
    "id": "NG72kC6t9Ve1"
   },
   "outputs": [
    {
     "name": "stdout",
     "output_type": "stream",
     "text": [
      "<class 'int'>\n"
     ]
    }
   ],
   "source": [
    "def num_to_digits(P4):\n",
    "    #Creating a string version of the list to make it mutable\n",
    "    string_digits = str(P4)\n",
    "    #Creating a list with the string\n",
    "    digits = list(string_digits)\n",
    "    #Evaluating the elements of the string to create a list\n",
    "    digits_list = [eval(e) for e in digits]\n",
    "    return digits_list\n",
    "\n",
    "def num_to_digits_comprehension(P4):\n",
    "    #Identifies the integer elements of the argument for the function, changes them into a string, \n",
    "    # and the brackets identify the new variable as a list\n",
    "    comp_digits = [int(e) for e in str(P4)]\n",
    "    return comp_digits\n",
    "\n",
    "    "
   ]
  },
  {
   "cell_type": "code",
   "execution_count": 80,
   "metadata": {
    "id": "3pjI4Gut9Ve2"
   },
   "outputs": [
    {
     "name": "stdout",
     "output_type": "stream",
     "text": [
      "[6, 8, 2, 3, 5, 7]\n",
      "[1, 2, 3, 9, 7, 1, 0, 8, 4, 5, 1, 0, 2, 9, 3, 4, 1, 0, 2, 9, 3, 4]\n",
      "\n",
      "[6, 8, 2, 3, 5, 7]\n",
      "[1, 2, 3, 9, 7, 1, 0, 8, 4, 5, 1, 0, 2, 9, 3, 4, 1, 0, 2, 9, 3, 4]\n"
     ]
    }
   ],
   "source": [
    "# call your function with a couple of different numbers and print the results here\n",
    "print(num_to_digits(682357))\n",
    "print(num_to_digits(1239710845102934102934))\n",
    "print()\n",
    "print(num_to_digits_comprehension(682357))\n",
    "print(num_to_digits_comprehension(1239710845102934102934))"
   ]
  },
  {
   "cell_type": "markdown",
   "metadata": {
    "id": "5n7BxHMQ9Ve3"
   },
   "source": [
    "## Problem 5: Product\n",
    "\n",
    "Write three functions that compute the product of the numbers in a list. The first function should use a for-loop, the second a while-loop and the third should use recursion.\n",
    "\n",
    "You need to implement two versions of the function using recursion: a version copying the list when passing the argument, and another version not copying the list when passing the argument.\n",
    "\n",
    "*Hint 1: Passing a slice of the list as an argument will copy the list.*\n",
    "\n",
    "*Hint 2: A function may need more than one argument, but you should allow the function to be called with only one argument given.*"
   ]
  },
  {
   "cell_type": "code",
   "execution_count": 8,
   "metadata": {
    "id": "-PysUUrU9Ve4"
   },
   "outputs": [],
   "source": [
    "def multiply_for(P5):\n",
    "    #Identifying a starting multiplier\n",
    "    multi = 1\n",
    "    #Taking the elements of the list and the multiplier, sequentially multiplying them by index value.\n",
    "    for e in P5:\n",
    "        multi = multi * e\n",
    "    return multi\n",
    "\n",
    "def multiply_while(P5):\n",
    "    #Identifying starting index for function\n",
    "    i = P5[0]\n",
    "    #Identifying starting multiplier \n",
    "    multi = 1\n",
    "    #While index is less than the length of the list, we will multiply each sequential index value by the multiplier\n",
    "    while i < len(P5):\n",
    "        multi = multi * P5[i]\n",
    "        i+= 1\n",
    "    return multi\n",
    "    \n",
    "def multiply_recursive(P5):\n",
    "    #If the length of the list is only one, return the value of that index since no multiplication will be performed\n",
    "    if len(P5)==1:\n",
    "        return P5[0]\n",
    "    #If the length of the list is greater than 1, \n",
    "    #  multiply list index 0 by the other elements in the list starting with index 1,\n",
    "    #    and stopping at the end of the list. A copy is made since slicing is performed.\n",
    "    return multiply_recursive([P5[0]]) * multiply_recursive(P5[1:])\n",
    "\n",
    "#Argument of function defines list, index starting point, and multiplier value\n",
    "def multiply_recursive_no_copy(P5, i=0, multi=1):\n",
    "    if i == len(P5):\n",
    "        return multi\n",
    "    #Recursion can be performed without a copy/slicing, because the function called itself within itself. \n",
    "    #   It identifies the additional variables required for the function to fulfill the argument requirements.\n",
    "    return multiply_recursive_no_copy(P5, i+1, multi*P5[i])\n",
    "    \n"
   ]
  },
  {
   "cell_type": "code",
   "execution_count": 9,
   "metadata": {
    "id": "79pC87cC9Ve5"
   },
   "outputs": [
    {
     "name": "stdout",
     "output_type": "stream",
     "text": [
      "0 0 0 0\n",
      "\n",
      "1632960 1632960 1632960 1632960\n",
      "\n",
      "-62208 -62208 -62208 -62208\n",
      "\n",
      "0 0 0 0\n"
     ]
    }
   ],
   "source": [
    "# call your function with a couple of different lists and print the results here\n",
    "list1 = range(9)\n",
    "list2 = [1, 6, 2, 2, -2, 5, 9, 3, 7, -4, 9]\n",
    "list3 = [1, 8, 2, 3, 3, 9, 1, 8, -2, 3]\n",
    "list4 = [3, 6, 9, -3, 2, 7, 6, 0, -9]\n",
    "\n",
    "print(multiply_for(list1), multiply_while(list1), multiply_recursive(list1), multiply_recursive_no_copy(list1))\n",
    "print()\n",
    "print(multiply_for(list2), multiply_while(list2), multiply_recursive(list2), multiply_recursive_no_copy(list2))\n",
    "print()\n",
    "print(multiply_for(list3), multiply_while(list3), multiply_recursive(list3), multiply_recursive_no_copy(list3))\n",
    "print()\n",
    "print(multiply_for(list4), multiply_while(list4), multiply_recursive(list4), multiply_recursive_no_copy(list4))"
   ]
  },
  {
   "cell_type": "markdown",
   "metadata": {
    "id": "_5KdFNEG9Ve5"
   },
   "source": [
    "## Problem 6: Filtering\n",
    "\n",
    "Write a function `filter_above` that filters out elements from the **integer** list that are above a certain threshold. You may assume that there is at least one element left in the list after filtering. \n",
    "\n",
    "For example, aftering filtering out elements above 2 from the list [3,-2,-3,1,6,0], you get the output [-2,-3,1,0]."
   ]
  },
  {
   "cell_type": "code",
   "execution_count": 223,
   "metadata": {
    "id": "RR6AVB7h9Ve6"
   },
   "outputs": [],
   "source": [
    "def filter_above(P6,cutoff):\n",
    "    filtered_list = []\n",
    "    #Slicing list, identifying the start and stop point of the filter function\n",
    "    for n in P6[0:]:\n",
    "        #Identifying the requirements for the number that will cutoff the new list\n",
    "        if n > cutoff:\n",
    "            #Removing numbers that are greater than the cutoff number\n",
    "            P6.remove(n)\n",
    "        else:\n",
    "            #Appending the numbers that are less than the cutoff number to a new list\n",
    "            filtered_list.append(n)\n",
    "    return filtered_list"
   ]
  },
  {
   "cell_type": "code",
   "execution_count": 224,
   "metadata": {
    "id": "lMvJaf9f9Ve7"
   },
   "outputs": [
    {
     "name": "stdout",
     "output_type": "stream",
     "text": [
      "[-6, 0, -9]\n",
      "[-2, 1, 2, -8, 3]\n",
      "[5, 5, 5, 5, 5, 5, 5, 5]\n"
     ]
    }
   ],
   "source": [
    "# call your function with a couple of different n and print the results here\n",
    "print(filter_above([7,-6,4,1,0,-9], 0))\n",
    "print(filter_above([9,-2,1,8,2,18,-8,3], 6))\n",
    "print(filter_above([5,5,5,5,5,5,5,5],5))"
   ]
  },
  {
   "cell_type": "markdown",
   "metadata": {
    "id": "EGYlBRFG9Ve7"
   },
   "source": [
    "## Problem 7: Fibonacci Sequence\n",
    "\n",
    "Write a function that takes a number `n` and an empty array that writes the first `n` numbers of the [Fibonacci Sequence](https://en.wikipedia.org/wiki/Fibonacci_number) into the empty array. Print the array. \n",
    "\n",
    "The Fibonnaci Sequnece is the sequence where every number after the first two is the sum of the previous two numbers, i.e.,\n",
    "\n",
    "1, 1, 2, 3, 5, 8, 13, 21, 34, 55, ..."
   ]
  },
  {
   "cell_type": "code",
   "execution_count": 51,
   "metadata": {
    "id": "KLhYmYjw9Ve8"
   },
   "outputs": [],
   "source": [
    "\n",
    "def fibonacci(n,sequence):\n",
    "    #Determining criteria that if n is 0, then the function should return 0.\n",
    "    #     n being the inputted value of how many Fibonacci Sequence numbers the user wants printed.\n",
    "    if n <0:\n",
    "        return[0]\n",
    "    #While the length of the sequence is less than n, continue to print f(n) \n",
    "    while len(sequence) <= n:\n",
    "        fib = sequence[len(sequence)-1]+sequence[len(sequence)-2]\n",
    "        sequence.append(fib)\n",
    "    return sequence\n",
    "\n"
   ]
  },
  {
   "cell_type": "code",
   "execution_count": 56,
   "metadata": {},
   "outputs": [
    {
     "name": "stdout",
     "output_type": "stream",
     "text": [
      "[0, 1, 1, 2, 3, 5, 8, 13, 21, 34, 55, 89, 144, 233, 377, 610, 987, 1597]\n",
      "[0, 1, 1, 2, 3]\n",
      "[0, 1, 1, 2, 3, 5, 8, 13, 21, 34, 55]\n"
     ]
    }
   ],
   "source": [
    "sequence = [0,1]\n",
    "fibonacci(17,sequence)\n",
    "print(sequence)\n",
    "\n",
    "sequence = [0,1]\n",
    "fibonacci(4,sequence)\n",
    "print(sequence)\n",
    "\n",
    "sequence = [0,1]\n",
    "fibonacci(10,sequence)\n",
    "print(sequence)"
   ]
  },
  {
   "cell_type": "markdown",
   "metadata": {
    "id": "6ycInDlR9Ve9"
   },
   "source": [
    "##### Problem 8: Moving Attendance Averages\n",
    "\n",
    "Write a function `moving_average` that takes a list of daily attendance values, and computes a moving average over every consecutive `k` days. Some days will be missing measurements and will instead have the value `0`.\n",
    "\n",
    "**Caveats:**\n",
    "* The days missing measurements should be included in your `k` day window, but should not affect the average.\n",
    "  * e.g.`moving_average([1,0,2],3)` should return `[1.5]`\n",
    "* If all days in a window are missing measurements then the average should also have the value `0`.\n",
    "  * e.g. `moving_average([0, 0, 2], 2)` should return `[0, 2]`\n",
    "* Only compute averages as long as you have enough data points to fill the window.\n",
    "  * e.g. `moving_average([1,2,3,4,5,6,7,8],7)` should return a list of length two.\n",
    "  * e.g. `moving_average([1,2,3,4,5],2)` should return a list of length 4.\n",
    "  * e.g. `moving_average([1,2,3], 4)` should return an empty list.\n",
    "\n",
    "You can use these as example lists, but make sure that your algorithm works on other lists/windows."
   ]
  },
  {
   "cell_type": "code",
   "execution_count": 405,
   "metadata": {
    "id": "qyQv0Ms19Ve-"
   },
   "outputs": [],
   "source": [
    "def moving_average(att,k):\n",
    "    mov_avg =[]\n",
    "    i=0\n",
    "    #Stating if there are more attendance values than the value of k, return list of attendance values\n",
    "    if len(att) > k:\n",
    "        return att\n",
    "    #Stating if k is greater than the amount of attendance values to return empty list\n",
    "    elif len(att) < k:\n",
    "        return mov_avg\n",
    "    else:\n",
    "        #Counting amount of 0's in each list\n",
    "        zero_cnt = att.count(0)\n",
    "        #Iterating through list to find average\n",
    "        for i in range(len(att)):\n",
    "            #Assigning variable name to a slice made for starting and end of list, not including index 'i+k'\n",
    "            att_s = att[i:i+k]\n",
    "            #Finding mean by summing att_s and \n",
    "            #      subtracting the 0 count from the amount of numbers counted so mean isn't skewed\n",
    "            att_avg = (sum(att_s) / (k-zero_cnt))\n",
    "            #Appending average to new list\n",
    "            mov_avg.append(att_avg)\n",
    "            return mov_avg\n",
    "            \n",
    " \n"
   ]
  },
  {
   "cell_type": "markdown",
   "metadata": {
    "id": "-If3GsvL9Ve_"
   },
   "source": [
    "### From provided examples:"
   ]
  },
  {
   "cell_type": "code",
   "execution_count": 406,
   "metadata": {
    "id": "Aq9L7jCm9Ve_"
   },
   "outputs": [
    {
     "name": "stdout",
     "output_type": "stream",
     "text": [
      "Computed Averages: [89.5] Expected: [89.5]\n",
      "Computed Averages: [0, 0, 53] Expected: [0, 53.0]\n",
      "Length of List: 8 Expected Length: 4\n",
      "Length of List: 5 Expected Length: 3\n",
      "Length of List: 1 Expected Length: 1\n"
     ]
    }
   ],
   "source": [
    "print('Computed Averages: ' + str(moving_average([87,0,92],3)), 'Expected: [89.5]')\n",
    "print('Computed Averages: ' + str(moving_average([0, 0, 53], 2)), 'Expected: [0, 53.0]')\n",
    "print('Length of List: ' + str(len(moving_average([81,72,53,94,65,76,97,88],5))), 'Expected Length: 4')\n",
    "print('Length of List: ' + str(len(moving_average([91,92,83,64,75],3))), 'Expected Length: 3')\n",
    "print('Length of List: ' + str(len(moving_average([81,82,76],3))), 'Expected Length: 1')\n"
   ]
  },
  {
   "cell_type": "markdown",
   "metadata": {
    "id": "SN5hbWM59Ve_"
   },
   "source": [
    "### Other Examples:"
   ]
  },
  {
   "cell_type": "code",
   "execution_count": 389,
   "metadata": {
    "id": "QUlq4Qxa9VfA"
   },
   "outputs": [],
   "source": [
    "student_1 = range(17)"
   ]
  },
  {
   "cell_type": "code",
   "execution_count": 390,
   "metadata": {
    "id": "iNMtJydP9VfA"
   },
   "outputs": [],
   "source": [
    "student_2 = [75,83,0,95,92,0]"
   ]
  },
  {
   "cell_type": "code",
   "execution_count": 391,
   "metadata": {
    "id": "cJdpAIz49VfB"
   },
   "outputs": [],
   "source": [
    "student_3 = [77,0,0,0,68,60,70,0,92]"
   ]
  },
  {
   "cell_type": "code",
   "execution_count": 392,
   "metadata": {
    "id": "TQekdAqV9VfB"
   },
   "outputs": [],
   "source": [
    "student_4 = [81,72,93]"
   ]
  },
  {
   "cell_type": "code",
   "execution_count": 393,
   "metadata": {
    "id": "9y0XuLyh9VfC"
   },
   "outputs": [],
   "source": [
    "student_5 = [0, 0, 0, 62]"
   ]
  },
  {
   "cell_type": "code",
   "execution_count": 394,
   "metadata": {
    "id": "ai2zsY7X9VfD"
   },
   "outputs": [],
   "source": [
    "student_6 = []"
   ]
  },
  {
   "cell_type": "code",
   "execution_count": 395,
   "metadata": {
    "id": "0i-LsPMk9VfE"
   },
   "outputs": [
    {
     "name": "stdout",
     "output_type": "stream",
     "text": [
      "range(0, 17)\n"
     ]
    }
   ],
   "source": [
    "print(moving_average(student_1, 8))"
   ]
  },
  {
   "cell_type": "code",
   "execution_count": 396,
   "metadata": {
    "id": "ulr2mV3z9VfE"
   },
   "outputs": [
    {
     "name": "stdout",
     "output_type": "stream",
     "text": [
      "[75, 83, 0, 95, 92, 0]\n",
      "[75, 83, 0, 95, 92, 0]\n"
     ]
    }
   ],
   "source": [
    "print(moving_average(student_2, 2))\n",
    "print(moving_average(student_2, 3))"
   ]
  },
  {
   "cell_type": "code",
   "execution_count": 397,
   "metadata": {
    "id": "R1plsoR39VfE"
   },
   "outputs": [
    {
     "name": "stdout",
     "output_type": "stream",
     "text": [
      "[77, 0, 0, 0, 68, 60, 70, 0, 92]\n",
      "[77, 0, 0, 0, 68, 60, 70, 0, 92]\n",
      "[77, 0, 0, 0, 68, 60, 70, 0, 92]\n"
     ]
    }
   ],
   "source": [
    "print(moving_average(student_3, 2))\n",
    "print(moving_average(student_3, 3))\n",
    "print(moving_average(student_3, 4))"
   ]
  },
  {
   "cell_type": "code",
   "execution_count": 398,
   "metadata": {
    "id": "mmipCeK69VfF",
    "scrolled": true
   },
   "outputs": [
    {
     "name": "stdout",
     "output_type": "stream",
     "text": [
      "[81, 72, 93]\n",
      "[81, 72, 93]\n",
      "[82.0]\n",
      "[]\n"
     ]
    }
   ],
   "source": [
    "print(moving_average(student_4, 1))\n",
    "print(moving_average(student_4, 2))\n",
    "print(moving_average(student_4, 3))\n",
    "print(moving_average(student_4, 4))"
   ]
  },
  {
   "cell_type": "code",
   "execution_count": 399,
   "metadata": {
    "id": "VdKFZJ249VfF",
    "scrolled": false
   },
   "outputs": [
    {
     "name": "stdout",
     "output_type": "stream",
     "text": [
      "[0, 0, 0, 62]\n",
      "[0, 0, 0, 62]\n",
      "[0, 0, 0, 62]\n",
      "[62.0]\n"
     ]
    }
   ],
   "source": [
    "print(moving_average(student_5, 1))\n",
    "print(moving_average(student_5, 2))\n",
    "print(moving_average(student_5, 3))\n",
    "print(moving_average(student_5, 4))"
   ]
  },
  {
   "cell_type": "code",
   "execution_count": 400,
   "metadata": {
    "id": "xnSCyB4W9VfG",
    "scrolled": true
   },
   "outputs": [
    {
     "name": "stdout",
     "output_type": "stream",
     "text": [
      "[]\n",
      "[]\n"
     ]
    }
   ],
   "source": [
    "print(moving_average(student_6, 1))\n",
    "print(moving_average(student_6, 7))"
   ]
  },
  {
   "cell_type": "code",
   "execution_count": null,
   "metadata": {},
   "outputs": [],
   "source": []
  },
  {
   "cell_type": "code",
   "execution_count": null,
   "metadata": {},
   "outputs": [],
   "source": []
  }
 ],
 "metadata": {
  "anaconda-cloud": {},
  "colab": {
   "provenance": []
  },
  "kernelspec": {
   "display_name": "Python 3 (ipykernel)",
   "language": "python",
   "name": "python3"
  },
  "language_info": {
   "codemirror_mode": {
    "name": "ipython",
    "version": 3
   },
   "file_extension": ".py",
   "mimetype": "text/x-python",
   "name": "python",
   "nbconvert_exporter": "python",
   "pygments_lexer": "ipython3",
   "version": "3.9.13"
  }
 },
 "nbformat": 4,
 "nbformat_minor": 1
}
